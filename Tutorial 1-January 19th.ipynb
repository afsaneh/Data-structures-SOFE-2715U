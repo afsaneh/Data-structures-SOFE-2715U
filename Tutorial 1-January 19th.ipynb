{
 "cells": [
  {
   "cell_type": "markdown",
   "metadata": {},
   "source": [
    "### TA\n",
    "Afsaneh Towhidi (Sunny)\n",
    "\n",
    "Email address: afsaneh.towhidi@uoit.ca"
   ]
  },
  {
   "cell_type": "markdown",
   "metadata": {},
   "source": [
    "## The following tutorial is based on:\n",
    "\n",
    "Textbook: https://www.cs.auckland.ac.nz/courses/compsci105s1c/resources/ProblemSolvingwithAlgorithmsandDataStructures.pdf\n",
    "\n",
    "Interactive textbook: http://interactivepython.org/runestone/static/pythonds/index.html"
   ]
  },
  {
   "cell_type": "markdown",
   "metadata": {},
   "source": [
    "## Thonny IDE:\n",
    "- ** IDE:** Integrated development environment\n",
    "- An IDE normally consists of a source code editor, build automation tools, and a debugger\n",
    "\n",
    "- Download Thonny IDE from the link below:\n",
    "    * http://thonny.org"
   ]
  },
  {
   "cell_type": "markdown",
   "metadata": {},
   "source": [
    "## Interpreters and compilers\n",
    "- An interpreter is a program that reads and executes code\n",
    "- A compiler does not execute the code. They simply converts the source code into machine code, which can be run directly by the operating system as an executable program.\n",
    "- Interpreters bypass the compilation process and execute the code directly"
   ]
  },
  {
   "cell_type": "markdown",
   "metadata": {},
   "source": [
    "## Python\n",
    "- A modern, easy-to-learn, object-oriented programming language.\n",
    "- Has a powerful set of built-in data types and easy-to-use control constructs.\n",
    "- an interpreted language\n",
    "- easily reviewed by simply looking at and describing interactive sessions"
   ]
  },
  {
   "cell_type": "code",
   "execution_count": 14,
   "metadata": {},
   "outputs": [
    {
     "name": "stdout",
     "output_type": "stream",
     "text": [
      "Hello world!\n"
     ]
    }
   ],
   "source": [
    "print('Hello world!')"
   ]
  },
  {
   "cell_type": "markdown",
   "metadata": {},
   "source": [
    "## Some facts about python \n",
    "- Python supports the object-oriented programming paradigm\n",
    "- Python considers data to be the focal point of the problem-solving process\n",
    "- We define a class to be a description of\n",
    "    - The state : What the data look like\n",
    "    - The behavior: What the data can do\n",
    "- A user of a class only sees the state and behavior of a data item, so classes are analogous to abstract data types\n",
    "- Data items are called objects\n",
    "- An object is an instance of a class"
   ]
  },
  {
   "cell_type": "markdown",
   "metadata": {},
   "source": [
    "## Built-in Atomic Data Types\n",
    "- Atomic data are data elements that represent the lowest level of detail.\n",
    "- Python has two main built-in numeric classes that implement the integer and floating point data types $=>$ $int$ and $float$ classes\n",
    "- The standard arithmetic operations:\n",
    "    - +, -, *, /, and $**$ (exponentiation)\n",
    "    - / when two integers are divided, the result is a floating point\n",
    "-  Other very useful operations\n",
    "    - remainder (modulo) operator %\n",
    "    - integer division //   : returns the integer portion of the quotient by truncating any fractional part\n"
   ]
  },
  {
   "cell_type": "code",
   "execution_count": 15,
   "metadata": {},
   "outputs": [
    {
     "name": "stdout",
     "output_type": "stream",
     "text": [
      "14\n",
      "20\n",
      "1024\n",
      "2.0\n",
      "2.3333333333333335\n",
      "2\n",
      "1\n",
      "0.5\n",
      "0\n",
      "3\n",
      "1267650600228229401496703205376\n"
     ]
    }
   ],
   "source": [
    "print(2+3*4)\n",
    "print((2+3)*4)\n",
    "print(2**10)\n",
    "print(6/3)\n",
    "print(7/3)\n",
    "print(7//3)\n",
    "print(7%3)\n",
    "print(3/6)\n",
    "print(3//6)\n",
    "print(3%6)\n",
    "print(2**100)"
   ]
  },
  {
   "cell_type": "markdown",
   "metadata": {},
   "source": [
    "### Boolean\n",
    "- The boolean data type $=> bool$ class\n",
    "- The possible state values for a boolean object are $True$ and $False$ \n",
    "- The standard boolean operators, $and$, $or$, and $not$."
   ]
  },
  {
   "cell_type": "code",
   "execution_count": 16,
   "metadata": {},
   "outputs": [
    {
     "name": "stdout",
     "output_type": "stream",
     "text": [
      "True\n",
      "False\n",
      "True\n",
      "False\n",
      "True\n"
     ]
    }
   ],
   "source": [
    "print(True)\n",
    "print(False)\n",
    "print(False or True)\n",
    "print(not (False or True))\n",
    "print(True and True)"
   ]
  },
  {
   "cell_type": "markdown",
   "metadata": {},
   "source": [
    "### Comparison operators\n",
    "- See table 1 in the textbook"
   ]
  },
  {
   "cell_type": "code",
   "execution_count": 17,
   "metadata": {},
   "outputs": [
    {
     "name": "stdout",
     "output_type": "stream",
     "text": [
      "False\n",
      "True\n",
      "True\n"
     ]
    }
   ],
   "source": [
    "print(5==10)\n",
    "print(10 > 5)\n",
    "print((5 >= 1) and (5 <= 10))"
   ]
  },
  {
   "cell_type": "markdown",
   "metadata": {},
   "source": [
    "- Identifiers are used in programming languages as names.\n",
    "- In Python, identifiers start with a letter or an underscore (_), are case sensitive, and can be of any length.\n",
    "- A variable is created when a name is used for the first time on the left-hand side of an assignment statement.\n",
    "- Note that the variable will hold a reference to a piece of data and not the data itself. "
   ]
  },
  {
   "cell_type": "code",
   "execution_count": 18,
   "metadata": {
    "collapsed": true
   },
   "outputs": [],
   "source": [
    "theSum = 0\n",
    "# The right-hand side of the assignment statement is evaluated\n",
    "# and a reference to the resulting data object is “assigned” to the name on the left-hand side.\n",
    "# the type of the variable is integer as that is the type of the data currently being referred to by theSum"
   ]
  },
  {
   "cell_type": "code",
   "execution_count": 19,
   "metadata": {
    "collapsed": true
   },
   "outputs": [],
   "source": [
    "theSum = True\n",
    "# If the type of the data changes, so does the type of the variable (theSum is now of the type boolean\n",
    "# The assignment statement changes the reference being held by the variable.\n",
    "# This is a dynamic characteristic of Python. The same variable can refer to many different types of data."
   ]
  },
  {
   "cell_type": "markdown",
   "metadata": {},
   "source": [
    "## Built-in Collection Data Types\n",
    "\n",
    "- Ordered collections: Lists, strings, and tuples\n",
    "- Unordered collections: Sets and dictionaries.\n",
    "\n",
    "- A list is an ordered collection of zero or more references to Python data objects.\n",
    "- An empty list: []\n",
    "- In python's list, data objects need not all be from the same class and the collection can be assigned to a variable.\n"
   ]
  },
  {
   "cell_type": "code",
   "execution_count": 20,
   "metadata": {},
   "outputs": [
    {
     "name": "stdout",
     "output_type": "stream",
     "text": [
      "[1, 3, True, 6.5]\n",
      "[1, 3, True, 6.5]\n"
     ]
    }
   ],
   "source": [
    "print([1,3,True,6.5])\n",
    "#  When python evaluates a list, the list itself is returned\n",
    "myList = [1,3,True,6.5]\n",
    "# in order to remember the list for later processing, its reference needs to be assigned to a variable.\n",
    "print(myList)"
   ]
  },
  {
   "cell_type": "markdown",
   "metadata": {},
   "source": [
    "## Operations that can be applied to Python lists\n",
    "\n",
    "See table 2.\n",
    "\n",
    "- Note that the indices for lists (sequences) start counting with 0.\n",
    "- The slice operation, myList[1:3], returns a list of items starting with the item indexed by 1 up to but not including the item indexed by 3.\n"
   ]
  },
  {
   "cell_type": "code",
   "execution_count": 21,
   "metadata": {},
   "outputs": [
    {
     "name": "stdout",
     "output_type": "stream",
     "text": [
      "[[1, 2, 3, 4], [1, 2, 3, 4], [1, 2, 3, 4]]\n",
      "[[1, 2, 45, 4], [1, 2, 45, 4], [1, 2, 45, 4]]\n"
     ]
    }
   ],
   "source": [
    "myList = [1,2,3,4]\n",
    "A = [myList]*3 #using repetition for initializing a list\n",
    "print(A)\n",
    "myList[2]=45\n",
    "print(A)\n",
    "\n",
    "# The variable A holds a collection of three references to the original list called myList.\n",
    "# So a change to one element of myList shows up in all three occurrences in A."
   ]
  },
  {
   "cell_type": "markdown",
   "metadata": {},
   "source": [
    "## Methods that can be applied to Python lists\n",
    "\n",
    "See table 3.\n"
   ]
  },
  {
   "cell_type": "code",
   "execution_count": 22,
   "metadata": {},
   "outputs": [
    {
     "name": "stdout",
     "output_type": "stream",
     "text": [
      "[1024, 3, True, 6.5, False]\n",
      "[1024, 3, 4.5, True, 6.5, False]\n",
      "False\n",
      "[1024, 3, 4.5, True, 6.5]\n",
      "3\n",
      "[1024, 4.5, True, 6.5]\n",
      "[1024, 4.5, 6.5]\n",
      "[4.5, 6.5, 1024]\n",
      "[1024, 6.5, 4.5]\n",
      "1\n",
      "2\n",
      "[1024, 4.5]\n",
      "[4.5]\n"
     ]
    }
   ],
   "source": [
    "# notice the “dot” notation for asking an object to invoke a method:\n",
    "myList = [1024, 3, True, 6.5]\n",
    "myList.append(False)\n",
    "print(myList)\n",
    "myList.insert(2,4.5)\n",
    "print(myList)\n",
    "print(myList.pop()) #  return a value and also modify the list\n",
    "print(myList)\n",
    "print(myList.pop(1))\n",
    "print(myList)\n",
    "myList.pop(2)\n",
    "print(myList)\n",
    "myList.sort()\n",
    "print(myList)\n",
    "myList.reverse() # modify the list with no return value\n",
    "print(myList)\n",
    "print(myList.count(6.5))\n",
    "print(myList.index(4.5))\n",
    "myList.remove(6.5)\n",
    "print(myList)\n",
    "del myList[0]\n",
    "print(myList)"
   ]
  },
  {
   "cell_type": "markdown",
   "metadata": {},
   "source": [
    "### Range function\n",
    "\n",
    "- range produces a range object that represents a sequence of values\n",
    "- By using the list function, it is possible to see the value of the range object as a list\n"
   ]
  },
  {
   "cell_type": "code",
   "execution_count": 23,
   "metadata": {},
   "outputs": [
    {
     "name": "stdout",
     "output_type": "stream",
     "text": [
      "range(0, 10)\n",
      "[0, 1, 2, 3, 4, 5, 6, 7, 8, 9]\n",
      "[5, 7, 9]\n",
      "[10, 9, 8, 7, 6, 5, 4, 3, 2]\n"
     ]
    }
   ],
   "source": [
    "print(range(10))\n",
    "print (list(range(10)))\n",
    "print(list(range(5,10,2))) #skips by twos\n",
    "print(list(range(10,1,-1)))"
   ]
  },
  {
   "cell_type": "markdown",
   "metadata": {},
   "source": [
    "## Strings\n",
    "- Sequential collections of zero or more letters, numbers and other symbols."
   ]
  }
 ],
 "metadata": {
  "kernelspec": {
   "display_name": "Python 3",
   "language": "python",
   "name": "python3"
  },
  "language_info": {
   "codemirror_mode": {
    "name": "ipython",
    "version": 3
   },
   "file_extension": ".py",
   "mimetype": "text/x-python",
   "name": "python",
   "nbconvert_exporter": "python",
   "pygments_lexer": "ipython3",
   "version": "3.6.3"
  }
 },
 "nbformat": 4,
 "nbformat_minor": 2
}
