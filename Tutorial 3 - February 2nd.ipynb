{
 "cells": [
  {
   "cell_type": "markdown",
   "metadata": {},
   "source": [
    "## Data structures course / SOFE-2715U\n",
    "### TA\n",
    "Afsaneh Towhidi (Sunny)\n",
    "\n",
    "Email address: afsaneh.towhidi@uoit.ca"
   ]
  },
  {
   "cell_type": "markdown",
   "metadata": {},
   "source": [
    "## The following tutorial is based on:\n",
    "\n",
    "Textbook: https://www.cs.auckland.ac.nz/courses/compsci105s1c/resources/ProblemSolvingwithAlgorithmsandDataStructures.pdf\n",
    "\n",
    "Interactive textbook: http://interactivepython.org/runestone/static/pythonds/index.html"
   ]
  },
  {
   "cell_type": "markdown",
   "metadata": {},
   "source": [
    "### Object-Oriented Programming in Python\n",
    "- We have used a number of built-in classes to show examples of data and control structures.\n",
    "- One of the most powerful features in an object-oriented programming language is the ability to allow a programmer (problem solver) to create new classes that model data that is needed to solve the problem.\n",
    "\n",
    "- we used abstract data types to provide the logical description of what a data object looks like -> state\n",
    "- And what it can do -> its methods\n",
    "\n",
    "- By building a class that implements an abstract data type, a programmer can take advantage of\n",
    "    1. The abstraction process\n",
    "    2. Provide the details necessary to actually use the abstraction in a program\n",
    "  \n",
    "  \n"
   ]
  },
  {
   "cell_type": "markdown",
   "metadata": {},
   "source": [
    "## Fraction\n",
    "\n",
    "- We want to implement the abstract data type _Fraction_.\n",
    "\n",
    "Although it is possible to create a floating point approximation for any fraction, in this case we would like to represent the fraction as an exact value.\n",
    "\n",
    "A fraction such as ${\\dfrac{3}{5}}$ consists of two parts.\n",
    "\n",
    "1. The top value $=>$ numerator $=>$ can be any integer\n",
    "\n",
    "2. The bottom value $=>$ denominator $=>$ can be any integer greater than 0\n",
    "\n",
    "3. Negative fractions have a negative numerator.\n",
    "\n",
    "4. We need to be able to add, subtract, multiply, and divide fractions.\n",
    "\n",
    "5. We also want to be able to show fractions using the standard “slash” form, for example 3/5.\n",
    "\n",
    "6. All fraction methods should return results in their lowest terms so that no matter what computation is performed, we always end up with the most common form.\n"
   ]
  },
  {
   "cell_type": "code",
   "execution_count": null,
   "metadata": {
    "collapsed": true
   },
   "outputs": [],
   "source": [
    "### Defining a class\n",
    "\n",
    "class Fraction:\n",
    "\n",
    "   #the methods go here"
   ]
  },
  {
   "cell_type": "markdown",
   "metadata": {},
   "source": [
    "The first method that all classes should provide is the constructor. The constructor defines the way in which data objects are created.\n",
    "\n",
    "To create a Fraction object, we will need to provide two pieces of data, the numerator and the denominator."
   ]
  },
  {
   "cell_type": "code",
   "execution_count": null,
   "metadata": {
    "collapsed": true
   },
   "outputs": [],
   "source": [
    "\n",
    "class Fraction:\n",
    "\n",
    "    def __init__(self,top,bottom):\n",
    "        # the constructor method is always called __init__ (two underscores before and after init)\n",
    "        self.num = top # defines the fraction object to have an internal data object called num as part of its state\n",
    "        self.den = bottom # creates the denominator"
   ]
  },
  {
   "cell_type": "markdown",
   "metadata": {},
   "source": [
    "_self_ is a special parameter that will always be used as a reference back to the object itself.\n",
    "It's not a reserved keyword. But it's a strong convention between programmers.\n",
    "\n",
    "Why we have to place _self_ in the argument list? Many people have this question. Here is one explanation:\n",
    "\n",
    "http://neopythonic.blogspot.ca/2008/10/why-explicit-self-has-to-stay.html\n",
    "\n"
   ]
  },
  {
   "cell_type": "markdown",
   "metadata": {},
   "source": [
    "To create an instance of the Fraction class, we must invoke the constructor."
   ]
  },
  {
   "cell_type": "code",
   "execution_count": null,
   "metadata": {
    "collapsed": true
   },
   "outputs": [],
   "source": [
    "myfraction = Fraction(3,5) # using the name of the class and passing actual values for the necessary state"
   ]
  },
  {
   "cell_type": "markdown",
   "metadata": {},
   "source": [
    "creates an object called myfraction representing the fraction ${\\dfrac{3}{5}}$ (three-fifths)."
   ]
  },
  {
   "cell_type": "markdown",
   "metadata": {},
   "source": [
    "The next thing we need to do is implement the behavior that the abstract data type requires."
   ]
  },
  {
   "cell_type": "code",
   "execution_count": null,
   "metadata": {
    "collapsed": true
   },
   "outputs": [],
   "source": [
    "myf = Fraction(3,5)\n",
    "print(myf)"
   ]
  },
  {
   "cell_type": "markdown",
   "metadata": {},
   "source": [
    "The fraction object, myf, does not know how to respond to this request to print. It will show the actual reference that is stored in the variable\n",
    "\n",
    "The print function requires that the object convert itself into a string so that the string can be written to the output. We need to tell the Fraction class how to convert itself into a string."
   ]
  },
  {
   "cell_type": "code",
   "execution_count": null,
   "metadata": {
    "collapsed": true
   },
   "outputs": [],
   "source": [
    "def show(self):\n",
    "     print(self.num,\"/\",self.den)\n",
    "\n",
    "        \n",
    "myf = Fraction(3,5)\n",
    "myf.show()"
   ]
  },
  {
   "cell_type": "code",
   "execution_count": null,
   "metadata": {
    "collapsed": true
   },
   "outputs": [],
   "source": [
    "print(myf)"
   ]
  },
  {
   "cell_type": "markdown",
   "metadata": {},
   "source": [
    "\\__str__ , is a standard method to convert an object into a string.\n",
    "\n",
    "The default implementation for this method is to return the instance address string as we have already seen.\n",
    "\n",
    "We will say that this implementation overrides the previous one, or that it redefines the method’s behavior."
   ]
  },
  {
   "cell_type": "code",
   "execution_count": null,
   "metadata": {
    "collapsed": true
   },
   "outputs": [],
   "source": [
    "def __str__(self):\n",
    "    return str(self.num)+\"/\"+str(self.den)"
   ]
  },
  {
   "cell_type": "markdown",
   "metadata": {},
   "source": [
    "The resulting string will be returned any time a Fraction object is asked to convert itself to a string."
   ]
  },
  {
   "cell_type": "code",
   "execution_count": null,
   "metadata": {
    "collapsed": true
   },
   "outputs": [],
   "source": [
    "myf = Fraction(3,5)\n",
    "print(myf)\n",
    "\n",
    "print(\"I ate\", myf, \"of the pizza\")\n",
    "\n",
    "print(myf.__str__())\n",
    "\n",
    "print(str(myf))"
   ]
  },
  {
   "cell_type": "markdown",
   "metadata": {},
   "source": [
    "We can override many other methods for our new Fraction class.\n",
    "\n",
    "### basic arithmetic operations"
   ]
  },
  {
   "cell_type": "code",
   "execution_count": null,
   "metadata": {
    "collapsed": true
   },
   "outputs": [],
   "source": [
    "f1 = Fraction(1,4)\n",
    "f2 = Fraction(1,2)\n",
    "print(f1+f2)"
   ]
  },
  {
   "cell_type": "markdown",
   "metadata": {},
   "source": [
    "${\\dfrac{a}{b}} + {\\dfrac{c}{d}} = {\\dfrac{ad}{bd}} + {\\dfrac{cb}{bd}} = {\\dfrac{ad+cb}{bd}}$"
   ]
  },
  {
   "cell_type": "code",
   "execution_count": null,
   "metadata": {
    "collapsed": true
   },
   "outputs": [],
   "source": [
    "def __add__(self,otherfraction):\n",
    "\n",
    "     newnum = self.num*otherfraction.den + self.den*otherfraction.num\n",
    "     newden = self.den * otherfraction.den\n",
    "\n",
    "     return Fraction(newnum,newden)"
   ]
  },
  {
   "cell_type": "code",
   "execution_count": null,
   "metadata": {
    "collapsed": true
   },
   "outputs": [],
   "source": [
    "f1=Fraction(1,4)\n",
    "f2=Fraction(1,2)\n",
    "f3=f1+f2\n",
    "print(f3)"
   ]
  },
  {
   "cell_type": "markdown",
   "metadata": {},
   "source": [
    "The answer is not in the “lowest terms” representation.\n",
    "\n",
    "In order to be sure that our results are always in the lowest terms, we need a helper function that knows how to reduce fractions. This function will need to look for the greatest common divisor, or GCD."
   ]
  },
  {
   "cell_type": "code",
   "execution_count": null,
   "metadata": {
    "collapsed": true
   },
   "outputs": [],
   "source": [
    "# Euclid’s Algorithm for finding a greatest common divisor\n",
    "def gcd(m,n):\n",
    "    while m%n != 0:\n",
    "        oldm = m\n",
    "        oldn = n\n",
    "\n",
    "        m = oldn\n",
    "        n = oldm%oldn\n",
    "    return n\n",
    "\n",
    "print(gcd(20,6))"
   ]
  },
  {
   "cell_type": "code",
   "execution_count": null,
   "metadata": {
    "collapsed": true
   },
   "outputs": [],
   "source": [
    "def __add__(self,otherfraction):\n",
    "    newnum = self.num*otherfraction.den + self.den*otherfraction.num\n",
    "    newden = self.den * otherfraction.den\n",
    "    common = gcd(newnum,newden)\n",
    "    return Fraction(newnum//common,newden//common)"
   ]
  },
  {
   "cell_type": "markdown",
   "metadata": {},
   "source": [
    "### Comparison\n",
    "\n",
    "Assume we have two Fraction objects -> f1 and f2\n",
    "\n",
    "f1==f2 will only be True if they are references to the same object.\n",
    "\n",
    "Two different objects with the same numerators and denominators would not be equal under this implementation."
   ]
  },
  {
   "cell_type": "markdown",
   "metadata": {},
   "source": [
    "![title](fraction3.PNG)"
   ]
  },
  {
   "cell_type": "markdown",
   "metadata": {},
   "source": [
    "For creating deep equality, we can override the __eq__ method.\n"
   ]
  },
  {
   "cell_type": "code",
   "execution_count": null,
   "metadata": {
    "collapsed": true
   },
   "outputs": [],
   "source": [
    "def __eq__(self, other):\n",
    "    firstnum = self.num * other.den\n",
    "    secondnum = other.num * self.den\n",
    "\n",
    "    return firstnum == secondnum"
   ]
  },
  {
   "cell_type": "markdown",
   "metadata": {},
   "source": [
    "### Stack\n",
    "\n",
    "An ordered collection of items where the addition of new items and the removal of existing items always takes place at the same end.\n",
    "\n",
    "This end is commonly referred to as the “top.” The end opposite the top is known as the “base.”\n",
    "\n",
    "LIFO, last-in first-out:\n",
    " \n",
    "The base of the stack is significant since items stored in the stack that are closer to the base represent those that have been in the stack the longest. The most recently added item is the one that is in position to be removed first.\n",
    "\n",
    "Stacks are fundamentally important, as they can be used to reverse the order of items.\n",
    "\n",
    "For example, every web browser has a Back button. As you navigate from web page to web page, those pages are placed on a stack (actually it is the URLs that are going on the stack). The current page that you are viewing is on the top and the first page you looked at is at the base. If you click on the Back button, you begin to move in reverse order through the pages."
   ]
  },
  {
   "cell_type": "markdown",
   "metadata": {},
   "source": [
    "#### Stack Applications\n",
    "http://jcsites.juniata.edu/faculty/kruse/cs240/stackapps.htm"
   ]
  },
  {
   "cell_type": "markdown",
   "metadata": {},
   "source": [
    "## Implementing a Stack in Python\n"
   ]
  },
  {
   "cell_type": "code",
   "execution_count": null,
   "metadata": {
    "collapsed": true
   },
   "outputs": [],
   "source": [
    "class Stack:\n",
    "     def __init__(self):\n",
    "         self.items = []\n",
    "\n",
    "     def isEmpty(self):\n",
    "         return self.items == []\n",
    "\n",
    "     def push(self, item):\n",
    "         self.items.append(item)\n",
    "\n",
    "     def pop(self):\n",
    "         return self.items.pop()\n",
    "\n",
    "     def peek(self):\n",
    "         return self.items[len(self.items)-1]\n",
    "\n",
    "     def size(self):\n",
    "         return len(self.items)\n"
   ]
  },
  {
   "cell_type": "code",
   "execution_count": null,
   "metadata": {
    "collapsed": true
   },
   "outputs": [],
   "source": [
    "s=Stack()\n",
    "\n",
    "print(s.isEmpty())\n",
    "s.push(4)\n",
    "s.push('dog')\n",
    "print(s.peek())\n",
    "s.push(True)\n",
    "print(s.size())\n",
    "print(s.isEmpty())\n",
    "s.push(8.4)\n",
    "print(s.pop())\n",
    "print(s.pop())\n",
    "print(s.size())"
   ]
  },
  {
   "cell_type": "markdown",
   "metadata": {},
   "source": [
    "We could have chosen to implement the stack using a list where the top is at the beginning instead of at the end. In this case, the previous pop and append methods would no longer work and we would have to index position 0 (the first item in the list) explicitly using pop and insert. "
   ]
  },
  {
   "cell_type": "code",
   "execution_count": null,
   "metadata": {
    "collapsed": true
   },
   "outputs": [],
   "source": [
    "class Stack:\n",
    "    def __init__(self):\n",
    "        self.items = []\n",
    "\n",
    "    def isEmpty(self):\n",
    "        return self.items == []\n",
    "\n",
    "    def push(self, item):\n",
    "        self.items.insert(0,item)\n",
    "        \n",
    "        \n",
    "    def pop(self):\n",
    "        return self.items.pop(0)\n",
    "\n",
    "    def peek(self):\n",
    "        return self.items[0]\n",
    "\n",
    "    def size(self):\n",
    "    return len(self.items)\n",
    "\n",
    "    s = Stack()\n",
    "    s.push('hello')\n",
    "    s.push('true')\n",
    "    print(s.pop())"
   ]
  },
  {
   "cell_type": "markdown",
   "metadata": {},
   "source": [
    "This ability to change the physical implementation of an abstract data type while maintaining the logical characteristics is an example of abstraction at work.\n",
    "#### Performance\n",
    "- append and pop() operations were both O(1).\n",
    "- insert(0) and pop(0) operations will both require O(n) for a stack of size n.\n",
    "\n",
    "Even though the implementations are logically equivalent, they would have very different timings when performing benchmark testing."
   ]
  }
 ],
 "metadata": {
  "kernelspec": {
   "display_name": "Python 3",
   "language": "python",
   "name": "python3"
  },
  "language_info": {
   "codemirror_mode": {
    "name": "ipython",
    "version": 3
   },
   "file_extension": ".py",
   "mimetype": "text/x-python",
   "name": "python",
   "nbconvert_exporter": "python",
   "pygments_lexer": "ipython3",
   "version": "3.6.3"
  }
 },
 "nbformat": 4,
 "nbformat_minor": 2
}
