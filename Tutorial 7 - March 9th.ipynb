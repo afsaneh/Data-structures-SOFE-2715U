{
 "cells": [
  {
   "cell_type": "markdown",
   "metadata": {},
   "source": [
    "NumPy is the fundamental package for scientific computing with Python."
   ]
  },
  {
   "cell_type": "code",
   "execution_count": null,
   "metadata": {},
   "outputs": [],
   "source": [
    "import numpy as np\n",
    "a = np.arange(15)\n",
    "print(a)"
   ]
  },
  {
   "cell_type": "code",
   "execution_count": null,
   "metadata": {},
   "outputs": [],
   "source": [
    "b = np.arange(15).reshape(3, 5)\n",
    "print(b)"
   ]
  },
  {
   "cell_type": "code",
   "execution_count": null,
   "metadata": {},
   "outputs": [],
   "source": [
    "print(\"shape: \", b.shape)\n",
    "print(\"ndim: \", b.ndim)\n",
    "print(\"type: \", type(b))"
   ]
  },
  {
   "cell_type": "markdown",
   "metadata": {},
   "source": [
    "For more information on Numpy, you can check out this tutorial: http://cs231n.github.io/python-numpy-tutorial/#numpy"
   ]
  },
  {
   "cell_type": "markdown",
   "metadata": {},
   "source": [
    "## Plotting\n",
    "\n",
    "### matplotlib library\n",
    "\n",
    "matplotlib.pyplot is a collection of command style functions that make matplotlib work like MATLAB."
   ]
  },
  {
   "cell_type": "code",
   "execution_count": null,
   "metadata": {},
   "outputs": [],
   "source": [
    "# https://matplotlib.org/users/pyplot_tutorial.html\n",
    "import matplotlib.pyplot as plt\n",
    "plt.plot([1,2,3,4])\n",
    "plt.ylabel('some numbers')\n",
    "plt.show()"
   ]
  },
  {
   "cell_type": "code",
   "execution_count": null,
   "metadata": {},
   "outputs": [],
   "source": [
    "import matplotlib.pyplot as plt\n",
    "plt.plot([1,2,3,4], [1,4,9,16], 'ro')\n",
    "plt.axis([0, 6, 0, 20]) # [xmin, xmax, ymin, ymax]\n",
    "plt.show()"
   ]
  },
  {
   "cell_type": "markdown",
   "metadata": {},
   "source": [
    "See the plot() documentation for a complete list of line styles and format strings."
   ]
  },
  {
   "cell_type": "code",
   "execution_count": null,
   "metadata": {},
   "outputs": [],
   "source": [
    "import numpy as np\n",
    "import matplotlib.pyplot as plt\n",
    "\n",
    "# evenly sampled time at 200ms intervals\n",
    "t = np.arange(0., 5., 0.2)\n",
    "\n",
    "# red dashes, blue squares and green triangles\n",
    "plt.plot(t, t, 'r--', t, t**2, 'bs', t, t**3, 'g^')\n",
    "plt.show()"
   ]
  },
  {
   "cell_type": "markdown",
   "metadata": {},
   "source": [
    "Check https://matplotlib.org/mpl_toolkits/mplot3d/tutorial.html for three-Dimensional plotting."
   ]
  },
  {
   "cell_type": "markdown",
   "metadata": {},
   "source": [
    "## Python Data Analysis Library\n",
    "### pandas\n",
    "\n",
    "pandas is a Python package providing fast, flexible, and expressive data structures designed to make working with “relational” or “labeled” data both easy and intuitive.\n",
    "\n",
    "### Series\n",
    "\n",
    "Series is a one-dimensional labeled array capable of holding any data type (integers, strings, floating point numbers, Python objects, etc.)\n",
    "\n",
    "### Dataframe\n",
    "DataFrame is a 2-dimensional labeled data structure with columns of potentially different types. You can think of it like a spreadsheet or SQL table, or a dict of Series objects. It is generally the most commonly used pandas object. \n",
    "\n",
    "Check this link for a good _pandas_ tutorial: https://pandas.pydata.org/pandas-docs/stable/tutorials.html"
   ]
  },
  {
   "cell_type": "code",
   "execution_count": null,
   "metadata": {
    "collapsed": true
   },
   "outputs": [],
   "source": [
    "# assume df is a Dataframe object.\n",
    "# Export to csv\n",
    "df.to_csv('test.csv', index=False)\n",
    "\n",
    "# Export to Excel\n",
    "df.to_excel('test.xls', index=False)\n",
    "\n",
    "#Export to text\n",
    "df.to_csv('test.txt', index=False)"
   ]
  },
  {
   "cell_type": "code",
   "execution_count": null,
   "metadata": {},
   "outputs": [],
   "source": [
    "# Read data from a csv file:\n",
    "\n",
    "df = pd.read_csv(Location)"
   ]
  },
  {
   "cell_type": "markdown",
   "metadata": {},
   "source": [
    "### C-9.26\n",
    "Show how to implement the stack ADT using only a priority queue and one additional integer instance variable."
   ]
  },
  {
   "cell_type": "markdown",
   "metadata": {},
   "source": [
    "Define a variable _key_ initialized to 0.\n",
    "\n",
    "push operation: Call insert(key, item) and decrement key.\n",
    "\n",
    "pop operation: Call remove and increment key."
   ]
  },
  {
   "cell_type": "markdown",
   "metadata": {},
   "source": [
    "### C-9.27\n",
    "Show how to implement the FIFO queue ADT using only a priority queue and one additional integer instance variable."
   ]
  },
  {
   "cell_type": "markdown",
   "metadata": {},
   "source": [
    "Define a variable _key_ initialized to 0.\n",
    "\n",
    "push operation: Call insert(key, item) and increment key.\n",
    "\n",
    "pop operation: Call remove and decrement key."
   ]
  },
  {
   "cell_type": "markdown",
   "metadata": {},
   "source": [
    "### C-9.28\n",
    "Professor Idle suggests the following solution to the previous problem. Whenever an item is inserted into the queue, it is assigned a key that is equal to the current size of the queue. Does such a strategy result in FIFO semantics? Prove that it is so or provide a counterexample."
   ]
  },
  {
   "cell_type": "markdown",
   "metadata": {},
   "source": [
    "It doesn't result in FIFO.\n",
    "\n",
    "counterexample: enqueue(), enqueue(), dequeue(), dequeue(), enqueue()"
   ]
  },
  {
   "cell_type": "markdown",
   "metadata": {},
   "source": [
    "### R-8.2\n",
    "How long would it take to remove the $\\lceil{log{n}}\\rceil$ smallest elements from a heap that contains n entries, using the remove min operation?"
   ]
  },
  {
   "cell_type": "markdown",
   "metadata": {},
   "source": [
    "Each removeMin call runs in $O(log n)$.\n",
    "\n",
    "$log n$ calls would run on the order of  $O(log{n}*log{n}) = O(log^2{n})$\n"
   ]
  },
  {
   "cell_type": "markdown",
   "metadata": {},
   "source": [
    "### R-9.7 \n",
    "Illustrate the execution of the selection-sort algorithm on the following input sequence:\n",
    "22, 15, 36, 44, 10, 3, 9, 13, 29, 25"
   ]
  },
  {
   "cell_type": "markdown",
   "metadata": {},
   "source": [
    "22 15 36 44 10 3 9 13 29 25\n",
    "\n",
    "3 15 36 44 10 22 9 13 29 25\n",
    "\n",
    "3 9 36 44 10 22 15 13 29 25\n",
    "\n",
    "3 9 10 44 36 22 15 13 29 25\n",
    "\n",
    "3 9 10 13 36 22 15 44 29 25\n",
    "\n",
    "3 9 10 13 15 22 36 44 29 25\n",
    "\n",
    "3 9 10 13 15 22 36 44 29 25\n",
    "\n",
    "3 9 10 13 15 22 25 44 29 36\n",
    "\n",
    "3 9 10 13 15 22 25 29 44 36\n",
    "\n",
    "3 9 10 13 15 22 25 29 36 44"
   ]
  },
  {
   "cell_type": "markdown",
   "metadata": {},
   "source": [
    "### C-9.42\n",
    "Explain how the k largest elements from an unordered collection of size n can be found in time $O(n + k logn)$ using a maximum-oriented heap."
   ]
  },
  {
   "cell_type": "markdown",
   "metadata": {},
   "source": [
    "Building a heap takes $O(n)$ time.\n",
    "\n",
    "Calling removeMin k times takes $O(k log n)$ time.\n",
    "\n",
    "So $O(n + k logn)$"
   ]
  },
  {
   "cell_type": "markdown",
   "metadata": {},
   "source": [
    "### Selection sort"
   ]
  },
  {
   "cell_type": "code",
   "execution_count": null,
   "metadata": {
    "collapsed": true
   },
   "outputs": [],
   "source": [
    "# iterative version\n",
    "def ssort(xs):\n",
    "    ''' sorts xs iteratively and in−place'''\n",
    "    for i in range(len(xs)):\n",
    "        m = minx(xs, i)\n",
    "        swap(xs, i, m)\n",
    "\n",
    "def swap(xs, i, j):\n",
    "    ''' swaps the values of xs[i] and xs[j] '''\n",
    "    temp = xs[i]\n",
    "    xs[i] = xs[j]\n",
    "    xs[j] = temp\n",
    "\n",
    "def minx(xs, k):\n",
    "    ''' returns the index of the min element at or after k '''\n",
    "    m = k\n",
    "    for i in range(k, len(xs)):\n",
    "        if xs[i] < xs[m]:\n",
    "            m = i\n",
    "    return m\n"
   ]
  },
  {
   "cell_type": "code",
   "execution_count": null,
   "metadata": {
    "collapsed": true
   },
   "outputs": [],
   "source": [
    "xs = []\n",
    "ssort(xs)\n",
    "print(xs)\n",
    "xs = [10, 3, 4, -5, 1]\n",
    "ssort(xs)\n",
    "print(xs)"
   ]
  },
  {
   "cell_type": "code",
   "execution_count": null,
   "metadata": {
    "collapsed": true
   },
   "outputs": [],
   "source": [
    "# Recursive version\n",
    "\n",
    "def minx(xs):\n",
    "    ''' returns the index of the min element of xs'''\n",
    "    m = 0\n",
    "    for i in range(len(xs)):\n",
    "        if xs[i] < xs[m]:\n",
    "            m = i\n",
    "    return m\n",
    "\n",
    "def ssort(xs):\n",
    "    if xs == []:\n",
    "        return xs\n",
    "    k = minx(xs)\n",
    "    return [xs[k]] + ssort(xs[:k] + xs[k+1:])  "
   ]
  },
  {
   "cell_type": "code",
   "execution_count": null,
   "metadata": {
    "collapsed": true
   },
   "outputs": [],
   "source": [
    "print(ssort([]))\n",
    "print(ssort([10, 3, 4, -5, 1]))"
   ]
  }
 ],
 "metadata": {
  "kernelspec": {
   "display_name": "Python 3",
   "language": "python",
   "name": "python3"
  },
  "language_info": {
   "codemirror_mode": {
    "name": "ipython",
    "version": 3
   },
   "file_extension": ".py",
   "mimetype": "text/x-python",
   "name": "python",
   "nbconvert_exporter": "python",
   "pygments_lexer": "ipython3",
   "version": "3.6.3"
  }
 },
 "nbformat": 4,
 "nbformat_minor": 2
}
