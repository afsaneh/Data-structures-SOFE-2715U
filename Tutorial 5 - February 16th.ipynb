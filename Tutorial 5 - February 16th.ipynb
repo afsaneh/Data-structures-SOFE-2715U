{
 "cells": [
  {
   "cell_type": "code",
   "execution_count": 1,
   "metadata": {
    "collapsed": true
   },
   "outputs": [],
   "source": [
    "class Stack:\n",
    "     def __init__(self):\n",
    "         self.items = []\n",
    "\n",
    "     def isEmpty(self):\n",
    "         return self.items == []\n",
    "\n",
    "     def push(self, item):\n",
    "         self.items.append(item)\n",
    "\n",
    "     def pop(self):\n",
    "         return self.items.pop()\n",
    "\n",
    "     def peek(self):\n",
    "         return self.items[len(self.items)-1]\n",
    "\n",
    "     def size(self):\n",
    "         return len(self.items)"
   ]
  },
  {
   "cell_type": "markdown",
   "metadata": {
    "collapsed": true
   },
   "source": [
    "## Exercise 1:\n",
    "Write a fuction to reverse a list using stack."
   ]
  },
  {
   "cell_type": "code",
   "execution_count": 2,
   "metadata": {},
   "outputs": [
    {
     "name": "stdout",
     "output_type": "stream",
     "text": [
      "[4, 3, 2, 1]\n"
     ]
    }
   ],
   "source": [
    "def reverse(xs):\n",
    "    st = Stack()\n",
    "    for x in xs:\n",
    "        st.push(x)\n",
    "    r = []\n",
    "    while not st.isEmpty():\n",
    "        r.append(st.pop())\n",
    "    return r\n",
    "\n",
    "print(reverse([1, 2, 3, 4])) "
   ]
  },
  {
   "cell_type": "markdown",
   "metadata": {},
   "source": [
    "## Exercise 2:\n",
    "Assume your keyboard does not have a backspace key; thus, if you make a data entry error, you must use the # character to correct your mistake as follows: Each # erases the previous character entered, but consecutive # characters do not cancel out; instead they are applied in sequence and so erase several characters. For instance if the input line is:\n",
    "\n",
    "        abc defgh#2klmnopqr##wxyz \n",
    "        \n",
    "the corrected output would be:\n",
    "\n",
    "        abc defg2klmnopwxyz \n",
    "        \n",
    "Write a function to perform this correction using stack."
   ]
  },
  {
   "cell_type": "code",
   "execution_count": 3,
   "metadata": {},
   "outputs": [
    {
     "name": "stdout",
     "output_type": "stream",
     "text": [
      "abc defg2klmnopwxyz\n"
     ]
    }
   ],
   "source": [
    "def backspace(s):\n",
    "    line = Stack()\n",
    "    for c in s:\n",
    "        if c == '#':\n",
    "            if not line.isEmpty():\n",
    "                line.pop()\n",
    "        else:\n",
    "            line.push(c)\n",
    "    res = ''\n",
    "    while not line.isEmpty():\n",
    "        res = line.pop() + res\n",
    "    return res   \n",
    "\n",
    "print(backspace('abc defgh#2klmnopqr##wxyz'))"
   ]
  },
  {
   "cell_type": "markdown",
   "metadata": {},
   "source": [
    "## Exercise 3:\n",
    "\n",
    "A palindrome is a string of characters that reads the same from left to right as it does from right to left.\n",
    "\n",
    "Write a function to determine whether a string is a palindrome or not."
   ]
  },
  {
   "cell_type": "code",
   "execution_count": 4,
   "metadata": {
    "collapsed": true
   },
   "outputs": [],
   "source": [
    "class Queue:\n",
    "    def __init__(self):\n",
    "        self.items = []\n",
    "\n",
    "    def isEmpty(self):\n",
    "        return self.items == []\n",
    "\n",
    "    def enqueue(self, item):\n",
    "        self.items.insert(0,item)\n",
    "\n",
    "    def dequeue(self):\n",
    "        return self.items.pop()\n",
    "\n",
    "    def size(self):\n",
    "        return len(self.items)"
   ]
  },
  {
   "cell_type": "code",
   "execution_count": 5,
   "metadata": {},
   "outputs": [
    {
     "name": "stdout",
     "output_type": "stream",
     "text": [
      "True\n",
      "False\n"
     ]
    }
   ],
   "source": [
    "def is_palindrome(s):\n",
    "    stk = Stack()\n",
    "    q = Queue()\n",
    "    for c in s:\n",
    "        stk.push(c)\n",
    "        q.enqueue(c)\n",
    "    while not stk.isEmpty():\n",
    "        if stk.pop() != q.dequeue():\n",
    "            return False\n",
    "    return True\n",
    "print(is_palindrome('madam'))\n",
    "print(is_palindrome('abcxba'))"
   ]
  },
  {
   "cell_type": "markdown",
   "metadata": {},
   "source": [
    "# Exercise 4:\n",
    "Write a function to evaluate a postfix expression. Assume the expression consists of numbers and +, -, *, and / operators."
   ]
  },
  {
   "cell_type": "code",
   "execution_count": 6,
   "metadata": {},
   "outputs": [
    {
     "name": "stdout",
     "output_type": "stream",
     "text": [
      "-3.0\n",
      "0.5999999999999996\n"
     ]
    }
   ],
   "source": [
    "def do_math(op, st):\n",
    "    rhs = st.pop()\n",
    "    lhs = st.pop()\n",
    "    if op == '+': return lhs + rhs\n",
    "    if op == '-': return lhs - rhs\n",
    "    if op == '*': return lhs * rhs\n",
    "    if op == '/': return lhs / rhs\n",
    "\n",
    "def eval_postfix(expr):\n",
    "    operands = Stack()\n",
    "    for e in expr.split():\n",
    "        if e in '+-*/':\n",
    "            r = do_math(e, operands)\n",
    "            operands.push(r)\n",
    "        else:\n",
    "            operands.push(float(e))\n",
    "    return operands.pop()\n",
    "\n",
    "print(eval_postfix('1 2 + 3 4 - *'))\n",
    "print(eval_postfix('1 2 3 4 5 / * - +'))"
   ]
  },
  {
   "cell_type": "markdown",
   "metadata": {},
   "source": [
    "# Exercise 5:\n",
    "Assume we have two very long strings consisting only of digits 0 to 9. Write a function to treat each as an integer and add them. Use stack."
   ]
  },
  {
   "cell_type": "code",
   "execution_count": 7,
   "metadata": {},
   "outputs": [
    {
     "name": "stdout",
     "output_type": "stream",
     "text": [
      "1000\n"
     ]
    }
   ],
   "source": [
    "def get(st, val):\n",
    "    'return a default value if stack is emtpty'\n",
    "    if st.isEmpty():\n",
    "        return val\n",
    "    return st.pop()\n",
    "\n",
    "def add(num1, num2):\n",
    "    s1 = Stack()\n",
    "    for n in num1:\n",
    "        s1.push(int(n))\n",
    "    s2 = Stack()\n",
    "    for n in num2:\n",
    "        s2.push(int(n))\n",
    "    s3 = Stack()\n",
    "    carry = 0\n",
    "    while not (s1.isEmpty() and s2.isEmpty()):\n",
    "        d1 = get(s1, 0)\n",
    "        d2 = get(s2, 0)\n",
    "        t = d1 + d2 + carry\n",
    "        if t > 9:\n",
    "            t = t - 10\n",
    "            carry = 1\n",
    "        else:\n",
    "            carry = 0\n",
    "        s3.push(str(t))\n",
    "    if carry != 0:\n",
    "        s3.push(str(carry))\n",
    "    res = ''\n",
    "    while not s3.isEmpty():\n",
    "        res = res + s3.pop()\n",
    "    return res\n",
    "\n",
    "print(add('1', '999'))"
   ]
  },
  {
   "cell_type": "markdown",
   "metadata": {},
   "source": [
    "## The following question is based on:\n",
    "\n",
    "Textbook: https://www.cs.auckland.ac.nz/courses/compsci105s1c/resources/ProblemSolvingwithAlgorithmsandDataStructures.pdf\n",
    "\n",
    "Interactive textbook: http://interactivepython.org/runestone/static/pythonds/index.html"
   ]
  },
  {
   "cell_type": "markdown",
   "metadata": {},
   "source": [
    "## Simulation: Hot Potato\n",
    "\n",
    "In this game (see Figure 2) children line up in a circle and pass an item from neighbor to neighbor as fast as they can. At a certain point in the game, the action is stopped and the child who has the item (the potato) is removed from the circle. Play continues until only one child is left."
   ]
  },
  {
   "cell_type": "markdown",
   "metadata": {},
   "source": [
    "### A modern-day equivalent: Josephus problem\n",
    "\n",
    "Based on a legend about the famous first-century historian Flavius Josephus, the story is told that in the Jewish revolt against Rome, Josephus and 39 of his comrades held out against the Romans in a cave. With defeat imminent, they decided that they would rather die than be slaves to the Romans. They arranged themselves in a circle. One man was designated as number one, and proceeding clockwise they killed every seventh man. Josephus, according to the legend, was among other things an accomplished mathematician. He instantly figured out where he ought to sit in order to be the last to go. When the time came, instead of killing himself, he joined the Roman side. You can find many different versions of this story. Some count every third man and some allow the last man to escape on a horse. In any case, the idea is the same."
   ]
  },
  {
   "cell_type": "code",
   "execution_count": 8,
   "metadata": {},
   "outputs": [
    {
     "name": "stdout",
     "output_type": "stream",
     "text": [
      "Susan\n"
     ]
    }
   ],
   "source": [
    "def hotPotato(namelist, num):\n",
    "    simqueue = Queue()\n",
    "    for name in namelist:\n",
    "        simqueue.enqueue(name)\n",
    "\n",
    "    while simqueue.size() > 1:\n",
    "        for i in range(num):\n",
    "            simqueue.enqueue(simqueue.dequeue())\n",
    "\n",
    "        simqueue.dequeue()\n",
    "\n",
    "    return simqueue.dequeue()\n",
    "\n",
    "print(hotPotato([\"Bill\",\"David\",\"Susan\",\"Jane\",\"Kent\",\"Brad\"],7))"
   ]
  }
 ],
 "metadata": {
  "kernelspec": {
   "display_name": "Python 3",
   "language": "python",
   "name": "python3"
  },
  "language_info": {
   "codemirror_mode": {
    "name": "ipython",
    "version": 3
   },
   "file_extension": ".py",
   "mimetype": "text/x-python",
   "name": "python",
   "nbconvert_exporter": "python",
   "pygments_lexer": "ipython3",
   "version": "3.6.3"
  }
 },
 "nbformat": 4,
 "nbformat_minor": 2
}
