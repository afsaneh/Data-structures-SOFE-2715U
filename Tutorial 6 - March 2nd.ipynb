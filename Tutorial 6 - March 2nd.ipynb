{
 "cells": [
  {
   "cell_type": "markdown",
   "metadata": {},
   "source": [
    "## Data structures course / SOFE-2715U\n",
    "### TA\n",
    "Afsaneh Towhidi (Sunny)\n",
    "\n",
    "Email address: afsaneh.towhidi@uoit.ca"
   ]
  },
  {
   "cell_type": "markdown",
   "metadata": {},
   "source": [
    "## The following tutorial is based on:\n",
    "\n",
    "Textbook: https://www.cs.auckland.ac.nz/courses/compsci105s1c/resources/ProblemSolvingwithAlgorithmsandDataStructures.pdf\n",
    "\n",
    "Interactive textbook: http://interactivepython.org/runestone/static/pythonds/index.html"
   ]
  },
  {
   "cell_type": "markdown",
   "metadata": {},
   "source": [
    "## 6.4. List of Lists Representation\n",
    "\n",
    "In a list of lists tree\n",
    "- The first element of the list is the value of the root node. \n",
    "- The second element of the list will itself be a list that represents the left subtree.\n",
    "- The third element of the list will be another list that represents the right subtree."
   ]
  },
  {
   "cell_type": "code",
   "execution_count": 1,
   "metadata": {
    "collapsed": true
   },
   "outputs": [],
   "source": [
    "myTree = ['a',   #root\n",
    "      ['b',  #left subtree\n",
    "       ['d', [], []],\n",
    "       ['e', [], []] ],\n",
    "      ['c',  #right subtree\n",
    "       ['f', [], []],\n",
    "       [] ]\n",
    "     ]\n",
    "\n",
    "#  The root of the tree is myTree[0]\n",
    "# the left subtree of the root is myTree[1]\n",
    "#  the right subtree is myTree[2]"
   ]
  },
  {
   "cell_type": "markdown",
   "metadata": {},
   "source": [
    "Some functions that make it easy for us to use lists as trees:"
   ]
  },
  {
   "cell_type": "code",
   "execution_count": 2,
   "metadata": {
    "collapsed": true
   },
   "outputs": [],
   "source": [
    "def binary_tree(r):\n",
    "    return [r, [], []]\n",
    "# constructs a list with a root node and two empty sublists for the children"
   ]
  },
  {
   "cell_type": "markdown",
   "metadata": {},
   "source": [
    "### Add a left subtree to the root of a tree:\n",
    "we need to insert a new list into the second position of the root list. We must be careful. If the list already has something in the second position, we need to keep track of it and push it down the tree as the left child of the list we are adding."
   ]
  },
  {
   "cell_type": "code",
   "execution_count": 3,
   "metadata": {
    "collapsed": true
   },
   "outputs": [],
   "source": [
    "def insertLeft(root,newBranch):\n",
    "    t = root.pop(1)\n",
    "    if len(t) > 1:\n",
    "        # installing the old left child as the left child of the new one\n",
    "        root.insert(1,[newBranch,t,[]])\n",
    "    else:\n",
    "        root.insert(1,[newBranch, [], []])\n",
    "    return root"
   ]
  },
  {
   "cell_type": "markdown",
   "metadata": {},
   "source": [
    "### Add a right subtree to the root of a tree:"
   ]
  },
  {
   "cell_type": "code",
   "execution_count": 4,
   "metadata": {
    "collapsed": true
   },
   "outputs": [],
   "source": [
    "def insertRight(root,newBranch):\n",
    "    t = root.pop(2)\n",
    "    if len(t) > 1:\n",
    "        root.insert(2,[newBranch,[],t])\n",
    "    else:\n",
    "        root.insert(2,[newBranch,[],[]])\n",
    "    return root"
   ]
  },
  {
   "cell_type": "markdown",
   "metadata": {},
   "source": [
    "### a couple of access functions"
   ]
  },
  {
   "cell_type": "code",
   "execution_count": 5,
   "metadata": {
    "collapsed": true
   },
   "outputs": [],
   "source": [
    "def getRootVal(root):\n",
    "    return root[0]\n",
    "\n",
    "def setRootVal(root,newVal):\n",
    "    root[0] = newVal\n",
    "\n",
    "def getLeftChild(root):\n",
    "    return root[1]\n",
    "\n",
    "def getRightChild(root):\n",
    "    return root[2]"
   ]
  },
  {
   "cell_type": "code",
   "execution_count": 6,
   "metadata": {},
   "outputs": [
    {
     "name": "stdout",
     "output_type": "stream",
     "text": [
      "[5, [4, [], []], []]\n",
      "[3, [9, [4, [], []], []], [7, [], [6, [], []]]]\n",
      "[3, [9, [11, [4, [], []], []], []], [7, [], [6, [], []]]]\n",
      "[6, [], []]\n"
     ]
    }
   ],
   "source": [
    "r = binary_tree(3)\n",
    "insertLeft(r,4)\n",
    "insertLeft(r,5)\n",
    "insertRight(r,6)\n",
    "insertRight(r,7)\n",
    "l = getLeftChild(r)\n",
    "print(l)\n",
    "\n",
    "setRootVal(l,9)\n",
    "print(r)\n",
    "insertLeft(l,11)\n",
    "print(r)\n",
    "print(getRightChild(getRightChild(r)))"
   ]
  },
  {
   "cell_type": "markdown",
   "metadata": {},
   "source": [
    "### Print a tree\n",
    "Write a function print_tree that prints a tree with each child indented with respect to the root.\n",
    "\n",
    "For example:\n",
    "\n",
    "['a', ['b', [], ['d', [], []]], ['c', ['e', [], []], ['f', [], []]]]\n",
    "should be printed as:\n",
    "\n",
    "a\n",
    "\n",
    "    b\n",
    "    \n",
    "        -\n",
    "        \n",
    "        d\n",
    "        \n",
    "            -\n",
    "            \n",
    "            -\n",
    "            \n",
    "    c\n",
    "        e\n",
    "            -\n",
    "            \n",
    "            -\n",
    "            \n",
    "        f\n",
    "        \n",
    "            -\n",
    "            \n",
    "            -\n",
    "            \n"
   ]
  },
  {
   "cell_type": "code",
   "execution_count": 7,
   "metadata": {
    "collapsed": true
   },
   "outputs": [],
   "source": [
    "def print_tree(t, level=0):\n",
    "    if t == []:\n",
    "        print(level*'  ', '.')\n",
    "        return\n",
    "    print(level*'  ', getRootVal(t))\n",
    "    print_tree(getLeftChild(t), level+1)\n",
    "    print_tree(getRightChild(t), level+1)"
   ]
  },
  {
   "cell_type": "code",
   "execution_count": 8,
   "metadata": {},
   "outputs": [
    {
     "name": "stdout",
     "output_type": "stream",
     "text": [
      "   a\n",
      "     b\n",
      "       .\n",
      "       .\n",
      "     c\n",
      "       .\n",
      "       d\n",
      "         e\n",
      "           .\n",
      "           .\n",
      "         .\n"
     ]
    }
   ],
   "source": [
    "x = binary_tree('a')\n",
    "insertLeft(x,'b')\n",
    "insertRight(x,'c')\n",
    "insertRight(getRightChild(x),'d')\n",
    "insertLeft(getRightChild(getRightChild(x)),'e')\n",
    "print_tree(x, 1)"
   ]
  },
  {
   "cell_type": "code",
   "execution_count": 9,
   "metadata": {},
   "outputs": [
    {
     "name": "stdout",
     "output_type": "stream",
     "text": [
      " 5\n",
      "   4\n",
      "     .\n",
      "     .\n",
      "   .\n",
      "----------------\n",
      " 3\n",
      "   9\n",
      "     4\n",
      "       .\n",
      "       .\n",
      "     .\n",
      "   7\n",
      "     .\n",
      "     6\n",
      "       .\n",
      "       .\n",
      "----------------\n",
      " 3\n",
      "   9\n",
      "     11\n",
      "       4\n",
      "         .\n",
      "         .\n",
      "       .\n",
      "     .\n",
      "   7\n",
      "     .\n",
      "     6\n",
      "       .\n",
      "       .\n",
      "----------------\n",
      " 6\n",
      "   .\n",
      "   .\n",
      "----------------\n",
      "['a', ['b', [], []], ['c', [], ['d', ['e', [], []], []]]]\n",
      "------\n",
      " a\n",
      "   b\n",
      "     .\n",
      "     .\n",
      "   c\n",
      "     .\n",
      "     d\n",
      "       e\n",
      "         .\n",
      "         .\n",
      "       .\n"
     ]
    }
   ],
   "source": [
    "r = binary_tree(3)\n",
    "insertLeft(r, 4) \n",
    "insertLeft(r, 5) \n",
    "insertRight(r, 6) \n",
    "insertRight(r, 7) \n",
    "l = getLeftChild(r) \n",
    "print_tree(l)\n",
    "print('----------------')\n",
    "setRootVal(l, 9) \n",
    "print_tree(r)\n",
    "print('----------------') \n",
    "insertLeft(l, 11) \n",
    "print_tree(r)\n",
    "print('----------------')\n",
    "\n",
    "print_tree(getRightChild(getRightChild(r)))\n",
    "print('----------------')\n",
    "\n",
    "x = binary_tree('a') \n",
    "insertLeft(x,'b') \n",
    "insertRight(x,'c') \n",
    "insertRight(getRightChild(x), 'd') \n",
    "insertLeft(getRightChild(getRightChild(x)), 'e')\n",
    "print(x)\n",
    "print('------')\n",
    "print_tree(x)"
   ]
  },
  {
   "cell_type": "markdown",
   "metadata": {},
   "source": [
    "### Question\n",
    "Write a function to build the tree for (a+b)*(c-d)"
   ]
  },
  {
   "cell_type": "code",
   "execution_count": 10,
   "metadata": {
    "collapsed": true
   },
   "outputs": [],
   "source": [
    "def build_exp():\n",
    "    ' (a+b) * (c-d)'\n",
    "    r = binary_tree('*')\n",
    "    insertLeft(r, '+')\n",
    "    insertRight(r, '-')\n",
    "\n",
    "    lhs = getLeftChild(r)\n",
    "    insertLeft(lhs, 'a')\n",
    "    insertRight(lhs, 'b')\n",
    "    rhs = getRightChild(r)\n",
    "    insertLeft(rhs, 'c')\n",
    "    insertRight(rhs, 'd')\n",
    "    return r"
   ]
  },
  {
   "cell_type": "code",
   "execution_count": 11,
   "metadata": {},
   "outputs": [
    {
     "name": "stdout",
     "output_type": "stream",
     "text": [
      "['*', ['+', ['a', [], []], ['b', [], []]], ['-', ['c', [], []], ['d', [], []]]]\n",
      " *\n",
      "   +\n",
      "     a\n",
      "       .\n",
      "       .\n",
      "     b\n",
      "       .\n",
      "       .\n",
      "   -\n",
      "     c\n",
      "       .\n",
      "       .\n",
      "     d\n",
      "       .\n",
      "       .\n"
     ]
    }
   ],
   "source": [
    "e = build_exp() \n",
    "print(e)   \n",
    "print_tree(e)"
   ]
  },
  {
   "cell_type": "markdown",
   "metadata": {},
   "source": [
    "### Question\n",
    "Covert a tree to a prefix expression."
   ]
  },
  {
   "cell_type": "code",
   "execution_count": 12,
   "metadata": {
    "collapsed": true
   },
   "outputs": [],
   "source": [
    "def tree2prefix(t):\n",
    "    val = getRootVal(t)\n",
    "    if val in '+-*/':\n",
    "        lhs = tree2prefix(getLeftChild(t))\n",
    "        rhs = tree2prefix(getRightChild(t))\n",
    "        return val + ' ' + lhs + ' ' + rhs\n",
    "    else:\n",
    "        return val"
   ]
  },
  {
   "cell_type": "code",
   "execution_count": 13,
   "metadata": {},
   "outputs": [
    {
     "name": "stdout",
     "output_type": "stream",
     "text": [
      "* + a b - c d\n"
     ]
    }
   ],
   "source": [
    "exp = build_exp()\n",
    "print(tree2prefix(exp))"
   ]
  },
  {
   "cell_type": "markdown",
   "metadata": {},
   "source": [
    "### Question\n",
    "Covert a tree to a postfix expression."
   ]
  },
  {
   "cell_type": "code",
   "execution_count": 14,
   "metadata": {
    "collapsed": true
   },
   "outputs": [],
   "source": [
    "def tree2postfix(t):\n",
    "    val = getRootVal(t)\n",
    "    if val in '+-*/':\n",
    "        lhs = tree2postfix(getLeftChild(t))\n",
    "        rhs = tree2postfix(getRightChild(t))\n",
    "        return lhs + ' ' + rhs + ' ' + val \n",
    "    else:\n",
    "        return val\n"
   ]
  },
  {
   "cell_type": "code",
   "execution_count": 15,
   "metadata": {},
   "outputs": [
    {
     "name": "stdout",
     "output_type": "stream",
     "text": [
      "a b + c d - *\n"
     ]
    }
   ],
   "source": [
    "exp = build_exp()\n",
    "print(tree2postfix(exp))"
   ]
  },
  {
   "cell_type": "markdown",
   "metadata": {},
   "source": [
    "### Question\n",
    "Covert a tree to a infix expression."
   ]
  },
  {
   "cell_type": "code",
   "execution_count": 16,
   "metadata": {
    "collapsed": true
   },
   "outputs": [],
   "source": [
    "def tree2infix(t):\n",
    "    val = getRootVal(t)\n",
    "    if val in '+-*/':\n",
    "        lhs = tree2infix(getLeftChild(t))\n",
    "        rhs = tree2infix(getRightChild(t))\n",
    "        return '(' + lhs  + val + rhs + ')'  \n",
    "    else:\n",
    "        return val\n"
   ]
  },
  {
   "cell_type": "code",
   "execution_count": 17,
   "metadata": {},
   "outputs": [
    {
     "name": "stdout",
     "output_type": "stream",
     "text": [
      "((a+b)*(c-d))\n"
     ]
    }
   ],
   "source": [
    "exp = build_exp()\n",
    "print(tree2infix(exp))"
   ]
  },
  {
   "cell_type": "markdown",
   "metadata": {},
   "source": [
    "### Question\n",
    "Covert postfix to tree."
   ]
  },
  {
   "cell_type": "code",
   "execution_count": 18,
   "metadata": {
    "collapsed": true
   },
   "outputs": [],
   "source": [
    "def postfix2tree(post):\n",
    "    stk = []\n",
    "    for p in post.split():\n",
    "        r = binary_tree(p)\n",
    "        if p in '+-*/':\n",
    "            r[2] = stk.pop()\n",
    "            r[1] = stk.pop()\n",
    "        stk.append(r)\n",
    "    return stk[0]    "
   ]
  },
  {
   "cell_type": "code",
   "execution_count": 19,
   "metadata": {},
   "outputs": [
    {
     "name": "stdout",
     "output_type": "stream",
     "text": [
      " *\n",
      "   +\n",
      "     a\n",
      "       .\n",
      "       .\n",
      "     b\n",
      "       .\n",
      "       .\n",
      "   -\n",
      "     c\n",
      "       .\n",
      "       .\n",
      "     d\n",
      "       .\n",
      "       .\n"
     ]
    }
   ],
   "source": [
    "print_tree(postfix2tree('a b + c d - *'))"
   ]
  }
 ],
 "metadata": {
  "kernelspec": {
   "display_name": "Python 3",
   "language": "python",
   "name": "python3"
  },
  "language_info": {
   "codemirror_mode": {
    "name": "ipython",
    "version": 3
   },
   "file_extension": ".py",
   "mimetype": "text/x-python",
   "name": "python",
   "nbconvert_exporter": "python",
   "pygments_lexer": "ipython3",
   "version": "3.6.3"
  }
 },
 "nbformat": 4,
 "nbformat_minor": 2
}
