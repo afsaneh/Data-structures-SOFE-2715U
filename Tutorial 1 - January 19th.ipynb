{
 "cells": [
  {
   "cell_type": "markdown",
   "metadata": {},
   "source": [
    "## Data structures course / SOFE-2715U\n",
    "### TA\n",
    "Afsaneh Towhidi (Sunny)\n",
    "\n",
    "Email address: afsaneh.towhidi@uoit.ca"
   ]
  },
  {
   "cell_type": "markdown",
   "metadata": {},
   "source": [
    "## The following tutorial is based on:\n",
    "\n",
    "Textbook: https://www.cs.auckland.ac.nz/courses/compsci105s1c/resources/ProblemSolvingwithAlgorithmsandDataStructures.pdf\n",
    "\n",
    "Interactive textbook: http://interactivepython.org/runestone/static/pythonds/index.html"
   ]
  },
  {
   "cell_type": "markdown",
   "metadata": {},
   "source": [
    "## Thonny IDE:\n",
    "- ** IDE:** Integrated development environment\n",
    "- An IDE normally consists of a source code editor, build automation tools, and a debugger\n",
    "\n",
    "- Download Thonny IDE from the link below:\n",
    "    * http://thonny.org"
   ]
  },
  {
   "cell_type": "markdown",
   "metadata": {},
   "source": [
    "## Interpreters and compilers\n",
    "- An interpreter is a program that reads and executes code.\n",
    "- A compiler does not execute the code. They converts the source code into machine code, which can be run directly by the operating system as an executable program.\n",
    "- Interpreters bypass the compilation process and execute the code directly."
   ]
  },
  {
   "cell_type": "markdown",
   "metadata": {},
   "source": [
    "## Python\n",
    "- An interpreted high-level programming language.\n",
    "- A modern, easy-to-learn, object-oriented programming language.\n",
    "- Has a powerful set of built-in data types and easy-to-use control constructs.\n",
    "- Easily reviewed by simply looking at and describing interactive sessions."
   ]
  },
  {
   "cell_type": "code",
   "execution_count": 1,
   "metadata": {},
   "outputs": [
    {
     "name": "stdout",
     "output_type": "stream",
     "text": [
      "Hello world!\n"
     ]
    }
   ],
   "source": [
    "print('Hello world!')"
   ]
  },
  {
   "cell_type": "markdown",
   "metadata": {},
   "source": [
    "## Some facts about python \n",
    "- Python supports the object-oriented programming paradigm\n",
    "- Python considers data to be the focal point of the problem-solving process\n",
    "- We define a class to be a description of\n",
    "    - The state : What the data look like\n",
    "    - The behavior: What the data can do\n",
    "- A user of a class only sees the state and behavior of a data item, so classes are analogous to abstract data types\n",
    "- Data items are called objects\n",
    "- An object is an instance of a class"
   ]
  },
  {
   "cell_type": "markdown",
   "metadata": {},
   "source": [
    "## Built-in Atomic Data Types\n",
    "- Atomic data are data elements that represent the lowest level of detail.\n",
    "- Python has two main built-in numeric classes that implement the integer and floating point data types $=>$ $int$ and $float$ classes\n",
    "- The standard arithmetic operations:\n",
    "    - +, -, *, /, and $**$ (exponentiation)\n",
    "    - / when two integers are divided, the result is a floating point\n",
    "-  Other very useful operations\n",
    "    - remainder (modulo) operator %\n",
    "    - integer division //   : returns the integer portion of the quotient by truncating any fractional part\n"
   ]
  },
  {
   "cell_type": "code",
   "execution_count": 2,
   "metadata": {},
   "outputs": [
    {
     "name": "stdout",
     "output_type": "stream",
     "text": [
      "14\n",
      "20\n",
      "1024\n",
      "2.0\n",
      "2.3333333333333335\n",
      "2\n",
      "1\n",
      "0.5\n",
      "0\n",
      "3\n",
      "1267650600228229401496703205376\n"
     ]
    }
   ],
   "source": [
    "print(2+3*4)\n",
    "print((2+3)*4)\n",
    "print(2**10)\n",
    "print(6/3)\n",
    "print(7/3)\n",
    "print(7//3)\n",
    "print(7%3)\n",
    "print(3/6)\n",
    "print(3//6)\n",
    "print(3%6)\n",
    "print(2**100)"
   ]
  },
  {
   "cell_type": "markdown",
   "metadata": {},
   "source": [
    "### Boolean\n",
    "- The boolean data type $=> bool$ class\n",
    "- The possible state values for a boolean object are $True$ and $False$ \n",
    "- The standard boolean operators, $and$, $or$, and $not$."
   ]
  },
  {
   "cell_type": "code",
   "execution_count": 3,
   "metadata": {},
   "outputs": [
    {
     "name": "stdout",
     "output_type": "stream",
     "text": [
      "True\n",
      "False\n",
      "True\n",
      "False\n",
      "True\n"
     ]
    }
   ],
   "source": [
    "print(True)\n",
    "print(False)\n",
    "print(False or True)\n",
    "print(not (False or True))\n",
    "print(True and True)"
   ]
  },
  {
   "cell_type": "markdown",
   "metadata": {},
   "source": [
    "### Comparison operators\n",
    "- See table 1 in the textbook"
   ]
  },
  {
   "cell_type": "code",
   "execution_count": 4,
   "metadata": {},
   "outputs": [
    {
     "name": "stdout",
     "output_type": "stream",
     "text": [
      "False\n",
      "True\n",
      "True\n"
     ]
    }
   ],
   "source": [
    "print(5==10)\n",
    "print(10 > 5)\n",
    "print((5 >= 1) and (5 <= 10))"
   ]
  },
  {
   "cell_type": "markdown",
   "metadata": {},
   "source": [
    "- Identifiers are used in programming languages as names.\n",
    "- In Python, identifiers start with a letter or an underscore (_), are case sensitive, and can be of any length.\n",
    "- A variable is created when a name is used for the first time on the left-hand side of an assignment statement.\n",
    "- Note that the variable will hold a reference to a piece of data and not the data itself. "
   ]
  },
  {
   "cell_type": "code",
   "execution_count": 5,
   "metadata": {
    "collapsed": true
   },
   "outputs": [],
   "source": [
    "theSum = 0\n",
    "# The right-hand side of the assignment statement is evaluated\n",
    "# and a reference to the resulting data object is “assigned” to the name on the left-hand side.\n",
    "# the type of the variable is integer as that is the type of the data currently being referred to by theSum"
   ]
  },
  {
   "cell_type": "code",
   "execution_count": 6,
   "metadata": {
    "collapsed": true
   },
   "outputs": [],
   "source": [
    "theSum = True\n",
    "# If the type of the data changes, so does the type of the variable (theSum is now of the type boolean\n",
    "# The assignment statement changes the reference being held by the variable.\n",
    "# This is a dynamic characteristic of Python. The same variable can refer to many different types of data."
   ]
  },
  {
   "cell_type": "markdown",
   "metadata": {},
   "source": [
    "## Built-in Collection Data Types\n",
    "\n",
    "- Ordered collections: Lists, strings, and tuples.\n",
    "- Unordered collections: Sets and dictionaries.\n",
    "    - An **ordered collection** means that the elements of the collection have a specific order. The order is independent of the value.\n",
    "    - A **sorted collection** means that not only does the collection have order, but the order depends on the value of the element.\n",
    "    - A collection **without any order** can maintain the elements in any order.\n",
    "    \n",
    "# Lists\n",
    "- A list is an ordered collection of zero or more references to Python data objects.\n",
    "- An empty list: []\n",
    "- In python's list, data objects need not all be from the same class and the collection can be assigned to a variable.\n"
   ]
  },
  {
   "cell_type": "code",
   "execution_count": 7,
   "metadata": {},
   "outputs": [
    {
     "name": "stdout",
     "output_type": "stream",
     "text": [
      "[1, 3, True, 6.5]\n",
      "[1, 3, True, 6.5]\n"
     ]
    }
   ],
   "source": [
    "print([1,3,True,6.5])\n",
    "#  When python evaluates a list, the list itself is returned\n",
    "myList = [1,3,True,6.5]\n",
    "# in order to remember the list for later processing, its reference needs to be assigned to a variable.\n",
    "print(myList)"
   ]
  },
  {
   "cell_type": "markdown",
   "metadata": {},
   "source": [
    "### Operations that can be applied to Python lists\n",
    "\n",
    "See table 2.\n",
    "\n",
    "- Note that the indices for lists (sequences) start counting with 0.\n",
    "- The slice operation, myList[1:3], returns a list of items starting with the item indexed by 1 up to but not including the item indexed by 3.\n"
   ]
  },
  {
   "cell_type": "code",
   "execution_count": 8,
   "metadata": {},
   "outputs": [
    {
     "name": "stdout",
     "output_type": "stream",
     "text": [
      "[[1, 2, 3, 4], [1, 2, 3, 4], [1, 2, 3, 4]]\n",
      "[[1, 2, 45, 4], [1, 2, 45, 4], [1, 2, 45, 4]]\n"
     ]
    }
   ],
   "source": [
    "myList = [1,2,3,4]\n",
    "A = [myList]*3 #using repetition for initializing a list\n",
    "print(A)\n",
    "myList[2]=45\n",
    "print(A)\n",
    "\n",
    "# The variable A holds a collection of three references to the original list called myList.\n",
    "# So a change to one element of myList shows up in all three occurrences in A."
   ]
  },
  {
   "cell_type": "markdown",
   "metadata": {},
   "source": [
    "### Methods that can be applied to Python lists\n",
    "\n",
    "See table 3.\n"
   ]
  },
  {
   "cell_type": "code",
   "execution_count": 9,
   "metadata": {},
   "outputs": [
    {
     "name": "stdout",
     "output_type": "stream",
     "text": [
      "[1024, 3, True, 6.5, False]\n",
      "[1024, 3, 4.5, True, 6.5, False]\n",
      "False\n",
      "[1024, 3, 4.5, True, 6.5]\n",
      "3\n",
      "[1024, 4.5, True, 6.5]\n",
      "[1024, 4.5, 6.5]\n",
      "[4.5, 6.5, 1024]\n",
      "[1024, 6.5, 4.5]\n",
      "1\n",
      "2\n",
      "[1024, 4.5]\n",
      "[4.5]\n"
     ]
    }
   ],
   "source": [
    "# notice the “dot” notation for asking an object to invoke a method:\n",
    "myList = [1024, 3, True, 6.5]\n",
    "myList.append(False)\n",
    "print(myList)\n",
    "myList.insert(2,4.5)\n",
    "print(myList)\n",
    "print(myList.pop()) #  return a value and also modify the list\n",
    "print(myList)\n",
    "print(myList.pop(1))\n",
    "print(myList)\n",
    "myList.pop(2)\n",
    "print(myList)\n",
    "myList.sort()\n",
    "print(myList)\n",
    "myList.reverse() # modify the list with no return value\n",
    "print(myList)\n",
    "print(myList.count(6.5))\n",
    "print(myList.index(4.5))\n",
    "myList.remove(6.5)\n",
    "print(myList)\n",
    "del myList[0]\n",
    "print(myList)"
   ]
  },
  {
   "cell_type": "markdown",
   "metadata": {},
   "source": [
    "### Range function\n",
    "\n",
    "- range produces a range object that represents a sequence of values\n",
    "- By using the list function, it is possible to see the value of the range object as a list\n"
   ]
  },
  {
   "cell_type": "code",
   "execution_count": 10,
   "metadata": {},
   "outputs": [
    {
     "name": "stdout",
     "output_type": "stream",
     "text": [
      "range(0, 10)\n",
      "[0, 1, 2, 3, 4, 5, 6, 7, 8, 9]\n",
      "[5, 7, 9]\n",
      "[10, 9, 8, 7, 6, 5, 4, 3, 2]\n"
     ]
    }
   ],
   "source": [
    "print(range(10))\n",
    "print (list(range(10)))\n",
    "print(list(range(5,10,2))) #skips by twos\n",
    "print(list(range(10,1,-1)))"
   ]
  },
  {
   "cell_type": "markdown",
   "metadata": {},
   "source": [
    "# Strings\n",
    "- Sequential collections of zero or more letters, numbers and other symbols.\n",
    "- We call these letters, numbers and other symbols characters.\n"
   ]
  },
  {
   "cell_type": "code",
   "execution_count": 11,
   "metadata": {},
   "outputs": [
    {
     "name": "stdout",
     "output_type": "stream",
     "text": [
      "David\n",
      "i\n",
      "DavidDavid\n",
      "5\n"
     ]
    }
   ],
   "source": [
    "print(\"David\")\n",
    "myName = \"David\"\n",
    "print(myName[3])\n",
    "print(myName*2)\n",
    "print(len(myName))"
   ]
  },
  {
   "cell_type": "markdown",
   "metadata": {},
   "source": [
    "### Methods that can be applied to Python strings\n",
    "See table 4.\n"
   ]
  },
  {
   "cell_type": "code",
   "execution_count": 12,
   "metadata": {},
   "outputs": [
    {
     "name": "stdout",
     "output_type": "stream",
     "text": [
      "David\n",
      "DAVID\n",
      "  David   \n",
      "2\n",
      "['Da', 'id']\n"
     ]
    }
   ],
   "source": [
    "print(myName)\n",
    "print(myName.upper())\n",
    "print(myName.center(10))\n",
    "print(myName.find('v'))\n",
    "2\n",
    "print(myName.split('v'))"
   ]
  },
  {
   "cell_type": "markdown",
   "metadata": {},
   "source": [
    "### Difference between list and string\n",
    "- lists can be modified while strings cannot"
   ]
  },
  {
   "cell_type": "code",
   "execution_count": 13,
   "metadata": {},
   "outputs": [
    {
     "name": "stdout",
     "output_type": "stream",
     "text": [
      "[4.5]\n",
      "[1024]\n",
      "David\n"
     ]
    },
    {
     "ename": "TypeError",
     "evalue": "'str' object does not support item assignment",
     "output_type": "error",
     "traceback": [
      "\u001b[1;31m---------------------------------------------------------------------------\u001b[0m",
      "\u001b[1;31mTypeError\u001b[0m                                 Traceback (most recent call last)",
      "\u001b[1;32m<ipython-input-13-9356f0a28946>\u001b[0m in \u001b[0;36m<module>\u001b[1;34m()\u001b[0m\n\u001b[0;32m      3\u001b[0m \u001b[0mprint\u001b[0m\u001b[1;33m(\u001b[0m\u001b[0mmyList\u001b[0m\u001b[1;33m)\u001b[0m\u001b[1;33m\u001b[0m\u001b[0m\n\u001b[0;32m      4\u001b[0m \u001b[0mprint\u001b[0m\u001b[1;33m(\u001b[0m\u001b[0mmyName\u001b[0m\u001b[1;33m)\u001b[0m\u001b[1;33m\u001b[0m\u001b[0m\n\u001b[1;32m----> 5\u001b[1;33m \u001b[0mmyName\u001b[0m\u001b[1;33m[\u001b[0m\u001b[1;36m0\u001b[0m\u001b[1;33m]\u001b[0m\u001b[1;33m=\u001b[0m\u001b[1;34m'X'\u001b[0m\u001b[1;33m\u001b[0m\u001b[0m\n\u001b[0m",
      "\u001b[1;31mTypeError\u001b[0m: 'str' object does not support item assignment"
     ]
    }
   ],
   "source": [
    "print(myList)\n",
    "myList[0]=2**10\n",
    "print(myList)\n",
    "print(myName)\n",
    "myName[0]='X'"
   ]
  },
  {
   "cell_type": "markdown",
   "metadata": {},
   "source": [
    "# Tuples\n",
    "- Very similar to lists in that they are heterogeneous sequences of data\n",
    "- The difference is that a tuple is immutable, like a string. (A tuple cannot be changed)\n",
    "- Tuples are written as comma-delimited values enclosed in parentheses.\n",
    "- They can use any operation described above."
   ]
  },
  {
   "cell_type": "code",
   "execution_count": 14,
   "metadata": {},
   "outputs": [
    {
     "name": "stdout",
     "output_type": "stream",
     "text": [
      "(2, True, 4.96)\n",
      "3\n",
      "2\n",
      "(2, True, 4.96, 2, True, 4.96, 2, True, 4.96)\n",
      "(2, True)\n"
     ]
    },
    {
     "ename": "TypeError",
     "evalue": "'tuple' object does not support item assignment",
     "output_type": "error",
     "traceback": [
      "\u001b[1;31m---------------------------------------------------------------------------\u001b[0m",
      "\u001b[1;31mTypeError\u001b[0m                                 Traceback (most recent call last)",
      "\u001b[1;32m<ipython-input-14-621a66160391>\u001b[0m in \u001b[0;36m<module>\u001b[1;34m()\u001b[0m\n\u001b[0;32m      5\u001b[0m \u001b[0mprint\u001b[0m\u001b[1;33m(\u001b[0m\u001b[0mmyTuple\u001b[0m \u001b[1;33m*\u001b[0m \u001b[1;36m3\u001b[0m\u001b[1;33m)\u001b[0m\u001b[1;33m\u001b[0m\u001b[0m\n\u001b[0;32m      6\u001b[0m \u001b[0mprint\u001b[0m\u001b[1;33m(\u001b[0m\u001b[0mmyTuple\u001b[0m\u001b[1;33m[\u001b[0m\u001b[1;36m0\u001b[0m\u001b[1;33m:\u001b[0m\u001b[1;36m2\u001b[0m\u001b[1;33m]\u001b[0m\u001b[1;33m)\u001b[0m\u001b[1;33m\u001b[0m\u001b[0m\n\u001b[1;32m----> 7\u001b[1;33m \u001b[0mmyTuple\u001b[0m\u001b[1;33m[\u001b[0m\u001b[1;36m1\u001b[0m\u001b[1;33m]\u001b[0m\u001b[1;33m=\u001b[0m\u001b[1;32mFalse\u001b[0m\u001b[1;33m\u001b[0m\u001b[0m\n\u001b[0m",
      "\u001b[1;31mTypeError\u001b[0m: 'tuple' object does not support item assignment"
     ]
    }
   ],
   "source": [
    "myTuple = (2,True,4.96)\n",
    "print(myTuple)\n",
    "print(len(myTuple))\n",
    "print(myTuple[0])\n",
    "print(myTuple * 3)\n",
    "print(myTuple[0:2])\n",
    "myTuple[1]=False"
   ]
  },
  {
   "cell_type": "markdown",
   "metadata": {},
   "source": [
    "# Sets\n",
    "- Unordered collection of zero or more immutable Python data objects\n",
    "- Sets do not allow duplicates and are written as comma-delimited values enclosed in curly braces\n",
    "- The empty set is represented by set().\n",
    "- Sets are heterogeneous"
   ]
  },
  {
   "cell_type": "code",
   "execution_count": 15,
   "metadata": {},
   "outputs": [
    {
     "name": "stdout",
     "output_type": "stream",
     "text": [
      "{False, 3, 4.5, 6, 'cat'}\n",
      "{False, 3, 4.5, 6, 'cat'}\n"
     ]
    }
   ],
   "source": [
    "print({3,6,\"cat\",4.5,False})\n",
    "mySet = {3,6,\"cat\",4.5,False}\n",
    "print(mySet)\n"
   ]
  },
  {
   "cell_type": "markdown",
   "metadata": {},
   "source": [
    "### Operations that can be applied to Python sets\n",
    "See table 5.\n",
    "\n",
    "Also:\n",
    "- Sets support a number of methods that should be familiar to those who have worked with them in a mathematics setting.\n",
    "    - See Table 6"
   ]
  },
  {
   "cell_type": "markdown",
   "metadata": {},
   "source": [
    "# Dictionaries\n",
    "- Unordered structure\n",
    "- Collections of associated pairs of items where each pair consists of a key and a value.\n",
    "- key:value\n",
    "- Dictionaries are written as comma-delimited key:value pairs enclosed in curly braces.\n"
   ]
  },
  {
   "cell_type": "code",
   "execution_count": 16,
   "metadata": {},
   "outputs": [
    {
     "name": "stdout",
     "output_type": "stream",
     "text": [
      "{'Iowa': 'DesMoines', 'Wisconsin': 'Madison'}\n",
      "DesMoines\n",
      "{'Iowa': 'DesMoines', 'Wisconsin': 'Madison', 'Utah': 'SaltLakeCity'}\n",
      "4\n"
     ]
    }
   ],
   "source": [
    "capitals = {'Iowa':'DesMoines','Wisconsin':'Madison'}\n",
    "print(capitals)\n",
    "\n",
    "# We can manipulate a dictionary by accessing a value via its key or by adding another key-value pair.\n",
    "\n",
    "print(capitals['Iowa'])\n",
    "#adding a new key:value\n",
    "capitals['Utah']='SaltLakeCity'\n",
    "print(capitals)\n",
    "capitals['California']='Sacramento'\n",
    "print(len(capitals))"
   ]
  },
  {
   "cell_type": "markdown",
   "metadata": {},
   "source": [
    "### Operations and methods that can be applied to Python dictoionaries\n",
    "\n",
    "See table 7 and 8"
   ]
  },
  {
   "cell_type": "markdown",
   "metadata": {},
   "source": [
    "# Input\n",
    "-  Most programs today use a dialog box as a way of asking the user to provide some type of input\n",
    "-  Python does have a way to create dialog boxes, but there is a much simpler function that we can use.\n",
    "- $input$ is a function that allows us to ask a user to enter some data and returns a reference to the data in the form of a string\n"
   ]
  },
  {
   "cell_type": "code",
   "execution_count": 17,
   "metadata": {},
   "outputs": [
    {
     "name": "stdout",
     "output_type": "stream",
     "text": [
      "Please enter your name: Afsaneh\n"
     ]
    }
   ],
   "source": [
    "aName = input('Please enter your name: ')"
   ]
  },
  {
   "cell_type": "markdown",
   "metadata": {},
   "source": [
    "Now whatever the user types after the prompt will be stored in the aName variable"
   ]
  },
  {
   "cell_type": "code",
   "execution_count": 18,
   "metadata": {},
   "outputs": [
    {
     "name": "stdout",
     "output_type": "stream",
     "text": [
      "Please enter your name Afsaneh\n",
      "Your name in all capitals is AFSANEH and has length 7\n"
     ]
    }
   ],
   "source": [
    "aName = input(\"Please enter your name \") # Asks the user for their name\n",
    "print(\"Your name in all capitals is\",aName.upper(), \"and has length\", len(aName)) \n",
    "# prints the result of some simple processing based on the string that is provided.\n",
    "# The value returned from the input function will be a string representing the exact characters\n",
    "# that were entered after the prompt"
   ]
  }
 ],
 "metadata": {
  "kernelspec": {
   "display_name": "Python 3",
   "language": "python",
   "name": "python3"
  },
  "language_info": {
   "codemirror_mode": {
    "name": "ipython",
    "version": 3
   },
   "file_extension": ".py",
   "mimetype": "text/x-python",
   "name": "python",
   "nbconvert_exporter": "python",
   "pygments_lexer": "ipython3",
   "version": "3.6.3"
  }
 },
 "nbformat": 4,
 "nbformat_minor": 2
}
