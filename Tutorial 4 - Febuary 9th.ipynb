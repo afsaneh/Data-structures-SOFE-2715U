{
 "cells": [
  {
   "cell_type": "markdown",
   "metadata": {},
   "source": [
    "## Data structures course / SOFE-2715U\n",
    "### TA\n",
    "Afsaneh Towhidi (Sunny)\n",
    "\n",
    "Email address: afsaneh.towhidi@uoit.ca"
   ]
  },
  {
   "cell_type": "markdown",
   "metadata": {},
   "source": [
    "## The following tutorial is based on:\n",
    "\n",
    "Textbook: https://www.cs.auckland.ac.nz/courses/compsci105s1c/resources/ProblemSolvingwithAlgorithmsandDataStructures.pdf\n",
    "\n",
    "Interactive textbook: http://interactivepython.org/runestone/static/pythonds/index.html"
   ]
  },
  {
   "cell_type": "markdown",
   "metadata": {},
   "source": [
    "### Simple Balanced Parentheses\n",
    "\n",
    "- Parentheses are used to order the performance of operations.\n",
    "\n",
    "- Balanced parentheses means that each opening symbol has a corresponding closing symbol and the pairs of parentheses are properly nested.\n",
    "\n",
    "- balanced strings of parentheses:\n",
    "(()()()())\n",
    "\n",
    "(((())))\n",
    "\n",
    "(()((())()))\n",
    "\n",
    "- unbalanced strings of parentheses:\n",
    "((((((())\n",
    "\n",
    "()))\n",
    "\n",
    "(()()(()\n",
    "\n",
    "- application: The ability to differentiate between parentheses that are correctly balanced and those that are unbalanced is an important part of recognizing many programming language structures.\n"
   ]
  },
  {
   "cell_type": "markdown",
   "metadata": {},
   "source": [
    "#### Observation:\n",
    "\n",
    "- Process symbols from left to right, the most recent opening parenthesis must match the next closing symbol.\n",
    "\n",
    "- The first opening symbol processed may have to wait until the very last symbol for its match.\n",
    "\n",
    "- And in the reverse order, closing symbols match opening symbols. From inside out.\n",
    "\n",
    "So this is a clue that stacks can be used to solve the problem."
   ]
  },
  {
   "cell_type": "markdown",
   "metadata": {},
   "source": [
    "#### Algorithm:\n",
    "\n",
    "1. Start with an empty stack.\n",
    "2. Process the parenthesis strings from left to right:\n",
    "    - If a symbol is an opening parenthesis, push it on the stack as a signal that a corresponding closing symbol needs to appear later.\n",
    "    - If a symbol is a closing parenthesis, pop the stack.\n",
    "3. As long as it is possible to pop the stack to match every closing symbol, the parentheses remain balanced.\n",
    "\n",
    "4. If at any time there is no opening symbol on the stack to match a closing symbol, the string is not balanced properly.\n",
    "\n",
    "5. At the end of the string, when all symbols have been processed, the stack should be empty"
   ]
  },
  {
   "cell_type": "code",
   "execution_count": 1,
   "metadata": {
    "collapsed": true
   },
   "outputs": [],
   "source": [
    "class Stack:\n",
    "     def __init__(self):\n",
    "         self.items = []\n",
    "\n",
    "     def isEmpty(self):\n",
    "         return self.items == []\n",
    "\n",
    "     def push(self, item):\n",
    "         self.items.append(item)\n",
    "\n",
    "     def pop(self):\n",
    "         return self.items.pop()\n",
    "\n",
    "     def peek(self):\n",
    "         return self.items[len(self.items)-1]\n",
    "\n",
    "     def size(self):\n",
    "         return len(self.items)\n"
   ]
  },
  {
   "cell_type": "code",
   "execution_count": 2,
   "metadata": {},
   "outputs": [
    {
     "name": "stdout",
     "output_type": "stream",
     "text": [
      "True\n",
      "False\n"
     ]
    }
   ],
   "source": [
    "def parChecker(symbolString):\n",
    "    s = Stack()\n",
    "    balanced = True # because there is no reason to assume otherwise at the start\n",
    "    index = 0\n",
    "    while index < len(symbolString) and balanced:\n",
    "        symbol = symbolString[index]\n",
    "        if symbol == \"(\":\n",
    "            # If the current symbol is (, then it is pushed on the stack\n",
    "            s.push(symbol)\n",
    "        else:\n",
    "            if s.isEmpty():\n",
    "                balanced = False\n",
    "            else:\n",
    "                s.pop()\n",
    "\n",
    "        index = index + 1\n",
    "\n",
    "    if balanced and s.isEmpty():\n",
    "        return True\n",
    "    else:\n",
    "        return False\n",
    "\n",
    "print(parChecker('((()))'))\n",
    "print(parChecker('(()'))\n"
   ]
  },
  {
   "cell_type": "markdown",
   "metadata": {},
   "source": [
    "### Balanced Symbols (A General Case)\n",
    "\n",
    "- The balanced parentheses problem shown above is a specific case of a more general situation that arises in many programming languages\n",
    "- in Python square brackets, [ and ], are used for lists\n",
    "- curly braces, { and }, are used for dictionaries\n",
    "- parentheses, ( and ), are used for tuples and arithmetic expressions.\n",
    "\n",
    "\n"
   ]
  },
  {
   "cell_type": "markdown",
   "metadata": {},
   "source": [
    "The simple parentheses checker from the previous section can easily be extended to handle these new types of symbols.\n",
    "\n",
    "1. Opening symbol is pushed on the stack to wait for the matching closing symbol to appear later in the sequence\n",
    "2. When a closing symbol does appear, the only difference is that we must check to be sure that it correctly matches the type of the opening symbol on top of the stack.\n",
    "3. If the two symbols do not match:\n",
    "    - the string is not balanced.   \n",
    "4. if the entire string is processed and nothing is left on the stack:\n",
    "    - the string is correctly balanced."
   ]
  },
  {
   "cell_type": "code",
   "execution_count": 3,
   "metadata": {},
   "outputs": [
    {
     "name": "stdout",
     "output_type": "stream",
     "text": [
      "True\n",
      "False\n"
     ]
    }
   ],
   "source": [
    "def parChecker(symbolString):\n",
    "    s = Stack()\n",
    "    balanced = True\n",
    "    index = 0\n",
    "    while index < len(symbolString) and balanced:\n",
    "        symbol = symbolString[index]\n",
    "        if symbol in \"([{\":\n",
    "            s.push(symbol)\n",
    "        else:\n",
    "            if s.isEmpty():\n",
    "                balanced = False\n",
    "            else:\n",
    "                top = s.pop()\n",
    "                if not matches(top,symbol):\n",
    "                       balanced = False\n",
    "        index = index + 1\n",
    "    if balanced and s.isEmpty():\n",
    "        return True\n",
    "    else:\n",
    "        return False\n",
    "\n",
    "def matches(open,close):\n",
    "    # Each symbol that is removed from the stack must be checked to see that it matches the current closing symbol\n",
    "    opens = \"([{\"\n",
    "    closers = \")]}\"\n",
    "    return opens.index(open) == closers.index(close)\n",
    "\n",
    "\n",
    "print(parChecker('{{([][])}()}'))\n",
    "print(parChecker('[{()]'))\n"
   ]
  },
  {
   "cell_type": "markdown",
   "metadata": {},
   "source": [
    "### Converting Decimal Numbers to Binary Numbers\n",
    "\n",
    "- Binary representation is important in computer science since all values stored within a computer exist as a string of binary digits, a string of 0s and 1s.\n",
    "\n",
    "- The corresponding binary equivalent of the decimal number ${233_{10}}$ is ${11101001_2}$."
   ]
  },
  {
   "cell_type": "markdown",
   "metadata": {},
   "source": [
    "### “Divide by 2” algorithm\n",
    "\n",
    "- For converting integer values into binary numbers\n",
    "\n",
    "1. Assume that we start with an integer greater than 0.\n",
    "2. Continually divide the decimal number by 2 and keep track of the remainder.\n",
    "3. The first division by 2 gives information as to whether the value is even or odd:\n",
    "    - An even value will have a remainder of 0.\n",
    "        - It will have the digit 0 in the ones place\n",
    "    - An odd value will have a remainder of 1\n",
    "        - It will have the digit 1 in the ones place\n",
    "        \n",
    "        \n",
    "#### The first remainder we compute will actually be the last digit in the sequence -> Stack"
   ]
  },
  {
   "cell_type": "code",
   "execution_count": 4,
   "metadata": {},
   "outputs": [
    {
     "name": "stdout",
     "output_type": "stream",
     "text": [
      "101010\n"
     ]
    }
   ],
   "source": [
    "def divideBy2(decNumber):\n",
    "    remstack = Stack()\n",
    "\n",
    "    while decNumber > 0:\n",
    "        rem = decNumber % 2 # extract the remainder \n",
    "        remstack.push(rem) # push it on the stack\n",
    "        decNumber = decNumber // 2\n",
    "    \n",
    "    # After the division process reaches 0:\n",
    "    binString = \"\"\n",
    "    while not remstack.isEmpty():\n",
    "        # The binary digits are popped from the stack one at a time and appended to the right-hand end of the string\n",
    "        binString = binString + str(remstack.pop())\n",
    "\n",
    "    return binString\n",
    "\n",
    "print(divideBy2(42))\n"
   ]
  },
  {
   "cell_type": "markdown",
   "metadata": {},
   "source": [
    "In computer science it is common to use a number of different encodings. The most common of these are binary, octal (base 8), and hexadecimal (base 16). The algorithm for binary conversion can easily be extended to perform the conversion for any base.\n",
    "\n",
    "\n",
    "The same left-to-right string construction technique can be used with one slight change.\n",
    "- Base 2 through base 10 numbers need a maximum of 10 digits, so the typical digit characters 0, 1, 2, 3, 4, 5, 6, 7, 8, and 9 work fine.\n",
    "- The problem comes when we go beyond base 10. We can no longer simply use the remainders, as they are themselves represented as two-digit decimal numbers.\n",
    "    - Instead we need to create a set of digits that can be used to represent those remainders beyond 9."
   ]
  },
  {
   "cell_type": "code",
   "execution_count": 5,
   "metadata": {},
   "outputs": [
    {
     "name": "stdout",
     "output_type": "stream",
     "text": [
      "11001\n",
      "19\n"
     ]
    }
   ],
   "source": [
    "def baseConverter(decNumber,base):\n",
    "    # takes a decimal number and any base between 2 and 16 as parameters\n",
    "    digits = \"0123456789ABCDEF\"\n",
    "\n",
    "    remstack = Stack()\n",
    "\n",
    "    while decNumber > 0:\n",
    "        rem = decNumber % base\n",
    "        remstack.push(rem)\n",
    "        decNumber = decNumber // base\n",
    "\n",
    "    newString = \"\"\n",
    "    while not remstack.isEmpty():\n",
    "        newString = newString + digits[remstack.pop()]\n",
    "\n",
    "    return newString\n",
    "\n",
    "print(baseConverter(25,2))\n",
    "print(baseConverter(25,16))\n"
   ]
  },
  {
   "cell_type": "markdown",
   "metadata": {},
   "source": [
    "### Queue\n",
    "\n",
    "A queue is an ordered collection of items where the addition of new items happens at one end, called the “rear,” and the removal of existing items occurs at the other end, commonly called the “front.”\n",
    "\n",
    "As an element enters the queue it starts at the rear and makes its way toward the front, waiting until that time when it is the next element to be removed.\n",
    "\n",
    "- The most recently added item in the queue must wait at the end of the collection.\n",
    "\n",
    "- The item that has been in the collection the longest is at the front.\n",
    "\n",
    "- This ordering principle is sometimes called FIFO, first-in first-out. It is also known as “first-come first-served.”"
   ]
  },
  {
   "cell_type": "code",
   "execution_count": 6,
   "metadata": {
    "collapsed": true
   },
   "outputs": [],
   "source": [
    "class Queue:\n",
    "    def __init__(self):\n",
    "        self.items = []\n",
    "\n",
    "    def isEmpty(self):\n",
    "        return self.items == []\n",
    "\n",
    "    def enqueue(self, item):\n",
    "        self.items.insert(0,item)\n",
    "\n",
    "    def dequeue(self):\n",
    "        return self.items.pop()\n",
    "\n",
    "    def size(self):\n",
    "        return len(self.items)"
   ]
  },
  {
   "cell_type": "code",
   "execution_count": 7,
   "metadata": {},
   "outputs": [
    {
     "name": "stdout",
     "output_type": "stream",
     "text": [
      "3\n"
     ]
    }
   ],
   "source": [
    "q=Queue()\n",
    "\n",
    "q.enqueue(4)\n",
    "q.enqueue('dog')\n",
    "q.enqueue(True)\n",
    "print(q.size())"
   ]
  }
 ],
 "metadata": {
  "kernelspec": {
   "display_name": "Python 3",
   "language": "python",
   "name": "python3"
  },
  "language_info": {
   "codemirror_mode": {
    "name": "ipython",
    "version": 3
   },
   "file_extension": ".py",
   "mimetype": "text/x-python",
   "name": "python",
   "nbconvert_exporter": "python",
   "pygments_lexer": "ipython3",
   "version": "3.6.3"
  }
 },
 "nbformat": 4,
 "nbformat_minor": 2
}
